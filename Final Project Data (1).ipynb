{
 "cells": [
  {
   "cell_type": "code",
   "execution_count": 1,
   "id": "b5014c2c",
   "metadata": {},
   "outputs": [],
   "source": [
    "import numpy as np\n",
    "import pandas as pd\n",
    "from matplotlib import pyplot as plt"
   ]
  },
  {
   "cell_type": "code",
   "execution_count": 2,
   "id": "1e083e12",
   "metadata": {},
   "outputs": [],
   "source": [
    "%matplotlib inline\n",
    "import matplotlib as mpl\n",
    "import matplotlib.pyplot as plt\n",
    "import pylab"
   ]
  },
  {
   "cell_type": "markdown",
   "id": "6b2503e8",
   "metadata": {},
   "source": [
    "We don't want to use scans that have no Majority Label nor Correct Label as these still need to be looked at by\n",
    "neurosurgeons to verify if they have hemorrhaging or not"
   ]
  },
  {
   "cell_type": "code",
   "execution_count": 3,
   "id": "3171aa24",
   "metadata": {},
   "outputs": [
    {
     "name": "stderr",
     "output_type": "stream",
     "text": [
      "C:\\Users\\hafid\\anaconda3\\lib\\site-packages\\IPython\\core\\interactiveshell.py:3444: FutureWarning: The error_bad_lines argument has been deprecated and will be removed in a future version.\n",
      "\n",
      "\n",
      "  exec(code_obj, self.user_global_ns, self.user_ns)\n"
     ]
    }
   ],
   "source": [
    "epi = pd.read_csv(\"Results_Epidural Hemorrhage Detection_2020-11-16_21.31.26.148.csv\", error_bad_lines=False)\n",
    "clean_epi = epi[(epi['Majority Label'] != '[]') | (epi['Correct Label'].notna()) & (epi['Correct Label'] != '[[], []]') ]"
   ]
  },
  {
   "cell_type": "code",
   "execution_count": 4,
   "id": "582c5910",
   "metadata": {},
   "outputs": [
    {
     "data": {
      "text/plain": [
       "(1289, 14)"
      ]
     },
     "execution_count": 4,
     "metadata": {},
     "output_type": "execute_result"
    }
   ],
   "source": [
    "intra = pd.read_csv(\"Results_Intraparenchymal Hemorrhage Detection_2020-11-16_21.39.31.268.csv\",error_bad_lines=False)\n",
    "clean_intra = intra[(intra['Majority Label'] != '[]') | (intra['Correct Label'].notna()) & (intra['Correct Label'] != '[[]]') ]\n",
    "#not sure what to do with scans that have \"Gold Standard\" (as their labeling state) since some of these have nans for both\n",
    "#Majority Label and Correct Label\n",
    "intra.shape\n",
    "#original excel file has 1373 rows, not exactly sure why pd only reads 1289 even after deleting\n",
    "#the \"error_bad_lines=False\" command"
   ]
  },
  {
   "cell_type": "code",
   "execution_count": null,
   "id": "93da32d7",
   "metadata": {},
   "outputs": [],
   "source": []
  },
  {
   "cell_type": "code",
   "execution_count": 5,
   "id": "32319719",
   "metadata": {},
   "outputs": [
    {
     "data": {
      "text/plain": [
       "(1054, 14)"
      ]
     },
     "execution_count": 5,
     "metadata": {},
     "output_type": "execute_result"
    }
   ],
   "source": [
    "multiple = pd.read_csv(\"Results_Multiple Hemorrhage Detection_2020-11-16_21.36.24.018.csv\",error_bad_lines=False )\n",
    "#again, excel file has more rows but pd reading less\n",
    "clean_multiple = multiple[(multiple['Majority Label'] != '[]') | (multiple['Correct Label'].notna()) & (multiple['Correct Label'] != '[[]]') ]\n",
    "multiple.shape"
   ]
  },
  {
   "cell_type": "code",
   "execution_count": null,
   "id": "ec2af6c5",
   "metadata": {},
   "outputs": [],
   "source": []
  },
  {
   "cell_type": "code",
   "execution_count": 6,
   "id": "41d8aa54",
   "metadata": {},
   "outputs": [
    {
     "data": {
      "text/plain": [
       "(1031, 14)"
      ]
     },
     "execution_count": 6,
     "metadata": {},
     "output_type": "execute_result"
    }
   ],
   "source": [
    "subarachnoid = pd.read_csv(\"Results_Subarachnoid Hemorrhage Detection_2020-11-16_21.36.18.668.csv\", error_bad_lines=False)\n",
    "clean_subarachnoid = subarachnoid[(subarachnoid['Majority Label'] != '[]') | (subarachnoid['Correct Label'].notna()) & (subarachnoid['Correct Label'] != '[[]]') ]\n",
    "subarachnoid.shape\n",
    "#original excel file has 1054 rows, not exactly sure why pd only reads 1031 even after deleting\n",
    "#the \"error_bad_lines=False\" command"
   ]
  },
  {
   "cell_type": "code",
   "execution_count": 7,
   "id": "4f1e5535",
   "metadata": {},
   "outputs": [],
   "source": [
    "subdural1 = pd.read_csv(\"Results_Subdural Hemorrhage Detection_2020-11-16_21.35.48.040.csv\",error_bad_lines=False)\n",
    "clean_subdural1 = subdural1[(subdural1['Majority Label'] != '[]') | (subdural1['Correct Label'].notna()) & (subdural1['Correct Label'] != '[[]]')]"
   ]
  },
  {
   "cell_type": "code",
   "execution_count": 8,
   "id": "1aef9463",
   "metadata": {},
   "outputs": [],
   "source": [
    "subdural2 = pd.read_csv(\"Results_Subdural Hemorrhage Detection_2020-11-16_21.37.19.745.csv\",error_bad_lines=False)\n",
    "clean_subdural2 = subdural2[(subdural2['Majority Label'] != '[]') | (subdural2['Correct Label'].notna()) & (subdural2['Correct Label'] != '[[]]')]"
   ]
  },
  {
   "cell_type": "code",
   "execution_count": null,
   "id": "11e4e905",
   "metadata": {},
   "outputs": [],
   "source": []
  },
  {
   "cell_type": "code",
   "execution_count": null,
   "id": "7467725e",
   "metadata": {},
   "outputs": [],
   "source": []
  },
  {
   "cell_type": "code",
   "execution_count": null,
   "id": "6e217180",
   "metadata": {},
   "outputs": [],
   "source": []
  },
  {
   "cell_type": "code",
   "execution_count": null,
   "id": "63e65b92",
   "metadata": {},
   "outputs": [],
   "source": []
  },
  {
   "cell_type": "code",
   "execution_count": null,
   "id": "806f7d9f",
   "metadata": {},
   "outputs": [],
   "source": []
  },
  {
   "cell_type": "code",
   "execution_count": null,
   "id": "96d3b320",
   "metadata": {},
   "outputs": [],
   "source": []
  },
  {
   "cell_type": "code",
   "execution_count": null,
   "id": "086c0120",
   "metadata": {},
   "outputs": [],
   "source": []
  },
  {
   "cell_type": "code",
   "execution_count": null,
   "id": "c8e83228",
   "metadata": {},
   "outputs": [],
   "source": []
  },
  {
   "cell_type": "code",
   "execution_count": 9,
   "id": "f149cfeb",
   "metadata": {},
   "outputs": [],
   "source": [
    "#some of the labels are nans but py thinks of them as strings(sometimes)\n",
    "def isNaN(string):\n",
    "    return string != string"
   ]
  },
  {
   "cell_type": "code",
   "execution_count": null,
   "id": "8668dd95",
   "metadata": {},
   "outputs": [],
   "source": []
  }
 ],
 "metadata": {
  "kernelspec": {
   "display_name": "Python 3 (ipykernel)",
   "language": "python",
   "name": "python3"
  },
  "language_info": {
   "codemirror_mode": {
    "name": "ipython",
    "version": 3
   },
   "file_extension": ".py",
   "mimetype": "text/x-python",
   "name": "python",
   "nbconvert_exporter": "python",
   "pygments_lexer": "ipython3",
   "version": "3.9.7"
  }
 },
 "nbformat": 4,
 "nbformat_minor": 5
}
